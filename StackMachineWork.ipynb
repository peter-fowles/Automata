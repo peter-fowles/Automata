{
 "cells": [
  {
   "cell_type": "code",
   "execution_count": 2,
   "metadata": {},
   "outputs": [],
   "source": [
    "from stackmachine import StackMachine, ContextFreeGrammar"
   ]
  },
  {
   "cell_type": "markdown",
   "metadata": {},
   "source": [
    "## 1. Construct a CFG"
   ]
  },
  {
   "cell_type": "markdown",
   "metadata": {},
   "source": [
    "### Example: CFG for $L = xx^R | x \\in \\{a, b\\}^*$\n",
    "$S \\to aSa$\n",
    "\n",
    "$S \\to bSb$\n",
    "\n",
    "$S \\to \\epsilon$"
   ]
  },
  {
   "cell_type": "code",
   "execution_count": 16,
   "metadata": {},
   "outputs": [
    {
     "name": "stdout",
     "output_type": "stream",
     "text": [
      "V = {'S'}\n",
      "Sigma = {'a', 'b'}\n",
      "S = S\n",
      "P = {\n",
      "    S -> ['aSa', 'bSb', None]\n",
      "}\n"
     ]
    }
   ],
   "source": [
    "G = ContextFreeGrammar(\n",
    "    V={'S'}, \n",
    "    Sigma={'a', 'b'}, \n",
    "    S='S', \n",
    "    P={\n",
    "        'S': ['aSa', 'bSb', None]\n",
    "        }\n",
    "    )\n",
    "\n",
    "print(G)"
   ]
  },
  {
   "cell_type": "markdown",
   "metadata": {},
   "source": [
    "## 2. Construct a Stack Machine"
   ]
  },
  {
   "cell_type": "code",
   "execution_count": 17,
   "metadata": {},
   "outputs": [
    {
     "name": "stdout",
     "output_type": "stream",
     "text": [
      "read b, pop b, push None\n",
      "read None, pop S, push aSa\n",
      "read None, pop S, push None\n",
      "read a, pop a, push None\n",
      "read None, pop S, push bSb\n",
      "\n"
     ]
    }
   ],
   "source": [
    "M = StackMachine(G)\n",
    "print(M)"
   ]
  },
  {
   "cell_type": "markdown",
   "metadata": {},
   "source": [
    "## 3. Test Some Strings"
   ]
  },
  {
   "cell_type": "code",
   "execution_count": 19,
   "metadata": {},
   "outputs": [
    {
     "name": "stdout",
     "output_type": "stream",
     "text": [
      "abba is in L(M)\n",
      "abab is not in L(M)\n",
      "baab is in L(M)\n",
      "ababbaba is in L(M)\n"
     ]
    }
   ],
   "source": [
    "strings = [\n",
    "    'abba', # should be true\n",
    "    'abab', # should be false\n",
    "    'baab', # should be true\n",
    "    'ababbaba' # should be true\n",
    "    ]\n",
    "\n",
    "for s in strings:\n",
    "    result = M.process(s)\n",
    "    print('\\\"' + s + '\\\" ' + ('is in L(M)' if result else 'is not in L(M)'))"
   ]
  }
 ],
 "metadata": {
  "kernelspec": {
   "display_name": "Python 3",
   "language": "python",
   "name": "python3"
  },
  "language_info": {
   "codemirror_mode": {
    "name": "ipython",
    "version": 3
   },
   "file_extension": ".py",
   "mimetype": "text/x-python",
   "name": "python",
   "nbconvert_exporter": "python",
   "pygments_lexer": "ipython3",
   "version": "3.12.6"
  }
 },
 "nbformat": 4,
 "nbformat_minor": 2
}
