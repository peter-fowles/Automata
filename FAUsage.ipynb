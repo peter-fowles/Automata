{
 "cells": [
  {
   "cell_type": "code",
   "execution_count": 1,
   "metadata": {},
   "outputs": [],
   "source": [
    "from finite_automata import FA"
   ]
  },
  {
   "cell_type": "code",
   "execution_count": 2,
   "metadata": {},
   "outputs": [],
   "source": [
    "Mod3FA = FA(\n",
    "    Q={'q_0', 'q_1', 'q_2'},\n",
    "    Sigma={'0', '1'},\n",
    "    delta={\n",
    "        ('q_0', '0'):{'q_0'},\n",
    "        ('q_0', '1'):{'q_1'},\n",
    "        ('q_1', '0'):{'q_2'},\n",
    "        ('q_1', '1'):{'q_0'},\n",
    "        ('q_2', '0'):{'q_1'},\n",
    "        ('q_2', '1'):{'q_2'}\n",
    "    },\n",
    "    q_0='q_0',\n",
    "    F={'q_0'}\n",
    ")"
   ]
  },
  {
   "cell_type": "code",
   "execution_count": 3,
   "metadata": {},
   "outputs": [
    {
     "data": {
      "text/plain": [
       "True"
      ]
     },
     "execution_count": 3,
     "metadata": {},
     "output_type": "execute_result"
    }
   ],
   "source": [
    "Mod3FA.isDFA()"
   ]
  },
  {
   "cell_type": "code",
   "execution_count": 6,
   "metadata": {},
   "outputs": [
    {
     "data": {
      "text/plain": [
       "False"
      ]
     },
     "execution_count": 6,
     "metadata": {},
     "output_type": "execute_result"
    }
   ],
   "source": [
    "Mod3FA.processString('110')"
   ]
  }
 ],
 "metadata": {
  "kernelspec": {
   "display_name": "Python 3",
   "language": "python",
   "name": "python3"
  },
  "language_info": {
   "codemirror_mode": {
    "name": "ipython",
    "version": 3
   },
   "file_extension": ".py",
   "mimetype": "text/x-python",
   "name": "python",
   "nbconvert_exporter": "python",
   "pygments_lexer": "ipython3",
   "version": "3.12.6"
  }
 },
 "nbformat": 4,
 "nbformat_minor": 2
}
