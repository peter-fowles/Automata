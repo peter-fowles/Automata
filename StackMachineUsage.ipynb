{
 "cells": [
  {
   "cell_type": "markdown",
   "metadata": {},
   "source": [
    "# Constructing and Using Stack Machines"
   ]
  },
  {
   "cell_type": "code",
   "execution_count": 1,
   "metadata": {},
   "outputs": [],
   "source": [
    "from stackmachine import StackMachine, ContextFreeGrammar"
   ]
  },
  {
   "cell_type": "markdown",
   "metadata": {},
   "source": [
    "## Example: CFG for $L = xx^R | x \\in \\{a, b\\}^*$\n",
    "$S \\to aSa$\n",
    "\n",
    "$S \\to bSb$\n",
    "\n",
    "$S \\to \\epsilon$"
   ]
  },
  {
   "cell_type": "markdown",
   "metadata": {},
   "source": [
    "### 1. Construct a CFG"
   ]
  },
  {
   "cell_type": "code",
   "execution_count": null,
   "metadata": {},
   "outputs": [],
   "source": [
    "G = ContextFreeGrammar(\n",
    "    V={'S'}, \n",
    "    Sigma={'a', 'b'}, \n",
    "    S='S', \n",
    "    P={\n",
    "        'S': ['aSa', 'bSb', None]\n",
    "        }\n",
    "    )\n",
    "\n",
    "print(G)"
   ]
  },
  {
   "cell_type": "markdown",
   "metadata": {},
   "source": [
    "### 2. Construct a Stack Machine"
   ]
  },
  {
   "cell_type": "code",
   "execution_count": null,
   "metadata": {},
   "outputs": [],
   "source": [
    "M = StackMachine(G)\n",
    "print(M)"
   ]
  },
  {
   "cell_type": "markdown",
   "metadata": {},
   "source": [
    "### 3. Test Some Strings"
   ]
  },
  {
   "cell_type": "code",
   "execution_count": null,
   "metadata": {},
   "outputs": [],
   "source": [
    "strings = [\n",
    "    'abba', # should be true\n",
    "    'abab', # should be false\n",
    "    'baab', # should be true\n",
    "    'ababbaba' # should be true\n",
    "    ]\n",
    "\n",
    "for s in strings:\n",
    "    result = M.process(s)\n",
    "    print('\\\"' + s + '\\\" ' + ('is in L(M)' if result else 'is not in L(M)'))"
   ]
  },
  {
   "cell_type": "markdown",
   "metadata": {},
   "source": [
    "#### Testing Strings with Parse Trees\n",
    "With the optional `showFinals` argument enabled, the `process()` method will also print all parse paths that were taken to reach the final state if the string is in L(M)."
   ]
  },
  {
   "cell_type": "code",
   "execution_count": null,
   "metadata": {},
   "outputs": [],
   "source": [
    "M.process('abba', showFinals=True)"
   ]
  }
 ],
 "metadata": {
  "kernelspec": {
   "display_name": "Python 3",
   "language": "python",
   "name": "python3"
  },
  "language_info": {
   "codemirror_mode": {
    "name": "ipython",
    "version": 3
   },
   "file_extension": ".py",
   "mimetype": "text/x-python",
   "name": "python",
   "nbconvert_exporter": "python",
   "pygments_lexer": "ipython3",
   "version": "3.12.6"
  }
 },
 "nbformat": 4,
 "nbformat_minor": 2
}
