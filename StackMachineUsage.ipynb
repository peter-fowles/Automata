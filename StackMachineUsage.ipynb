{
 "cells": [
  {
   "cell_type": "markdown",
   "metadata": {},
   "source": [
    "# Constructing and Using Stack Machines"
   ]
  },
  {
   "cell_type": "code",
   "execution_count": 1,
   "metadata": {},
   "outputs": [],
   "source": [
    "from stackmachine import StackMachine, ContextFreeGrammar"
   ]
  },
  {
   "cell_type": "markdown",
   "metadata": {},
   "source": [
    "## Example: CFG for $L = xx^R | x \\in \\{a, b\\}^*$\n",
    "$S \\to aSa$\n",
    "\n",
    "$S \\to bSb$\n",
    "\n",
    "$S \\to \\epsilon$"
   ]
  },
  {
   "cell_type": "markdown",
   "metadata": {},
   "source": [
    "### 1. Construct a CFG"
   ]
  },
  {
   "cell_type": "code",
   "execution_count": 6,
   "metadata": {},
   "outputs": [
    {
     "name": "stdout",
     "output_type": "stream",
     "text": [
      "V = {'S'}\n",
      "Sigma = {'a', 'b'}\n",
      "S = S\n",
      "P = {\n",
      "    S -> ['aSa', 'bSb', None]\n",
      "}\n"
     ]
    }
   ],
   "source": [
    "G = ContextFreeGrammar(\n",
    "    V={'S'}, \n",
    "    Sigma={'a', 'b'}, \n",
    "    S='S', \n",
    "    P={\n",
    "        'S': ['aSa', 'bSb', None]\n",
    "        }\n",
    "    )\n",
    "\n",
    "print(G)"
   ]
  },
  {
   "cell_type": "markdown",
   "metadata": {},
   "source": [
    "### 2. Construct a Stack Machine"
   ]
  },
  {
   "cell_type": "code",
   "execution_count": 7,
   "metadata": {},
   "outputs": [
    {
     "name": "stdout",
     "output_type": "stream",
     "text": [
      "read None, pop S, push None\n",
      "read b, pop b, push None\n",
      "read None, pop S, push bSb\n",
      "read None, pop S, push aSa\n",
      "read a, pop a, push None\n",
      "\n"
     ]
    }
   ],
   "source": [
    "M = StackMachine(G)\n",
    "print(M)"
   ]
  },
  {
   "cell_type": "markdown",
   "metadata": {},
   "source": [
    "### 3. Test Some Strings"
   ]
  },
  {
   "cell_type": "code",
   "execution_count": 8,
   "metadata": {},
   "outputs": [
    {
     "name": "stdout",
     "output_type": "stream",
     "text": [
      "\"abba\" is in L(M)\n",
      "\"abab\" is not in L(M)\n",
      "\"baab\" is in L(M)\n",
      "\"ababbaba\" is in L(M)\n"
     ]
    }
   ],
   "source": [
    "strings = [\n",
    "    'abba', # should be true\n",
    "    'abab', # should be false\n",
    "    'baab', # should be true\n",
    "    'ababbaba' # should be true\n",
    "    ]\n",
    "\n",
    "for s in strings:\n",
    "    result = M.process(s)\n",
    "    print('\\\"' + s + '\\\" ' + ('is in L(M)' if result else 'is not in L(M)'))"
   ]
  },
  {
   "cell_type": "markdown",
   "metadata": {},
   "source": [
    "#### Testing Strings with Parse Trees\n",
    "With the optional `showPaths` argument enabled, the `process()` method will also print all parse paths that were taken to reach the final state if the string is in L(M)."
   ]
  },
  {
   "cell_type": "code",
   "execution_count": 9,
   "metadata": {},
   "outputs": [
    {
     "name": "stdout",
     "output_type": "stream",
     "text": [
      "(\"abba\", ['S']) -> (\"abba\", ['a', 'S', 'a']) -> (\"bba\", ['a', 'S']) -> (\"bba\", ['a', 'b', 'S', 'b']) -> (\"ba\", ['a', 'b', 'S']) -> (\"ba\", ['a', 'b']) -> (\"a\", ['a']) -> (\"\", [])\n"
     ]
    },
    {
     "data": {
      "text/plain": [
       "True"
      ]
     },
     "execution_count": 9,
     "metadata": {},
     "output_type": "execute_result"
    }
   ],
   "source": [
    "M.process('abba', showPaths=True)"
   ]
  }
 ],
 "metadata": {
  "kernelspec": {
   "display_name": "Python 3",
   "language": "python",
   "name": "python3"
  },
  "language_info": {
   "codemirror_mode": {
    "name": "ipython",
    "version": 3
   },
   "file_extension": ".py",
   "mimetype": "text/x-python",
   "name": "python",
   "nbconvert_exporter": "python",
   "pygments_lexer": "ipython3",
   "version": "3.12.6"
  }
 },
 "nbformat": 4,
 "nbformat_minor": 2
}
